{
 "cells": [
  {
   "cell_type": "markdown",
   "id": "4ed46f31-7c4e-4ce8-8e37-4e4d148156f3",
   "metadata": {},
   "source": [
    "# Data Science Tools and Ecosystem"
   ]
  },
  {
   "cell_type": "markdown",
   "id": "44a4c8ed-4eff-4036-9001-ef8abeaf9bbe",
   "metadata": {},
   "source": [
    "In this notebook, Data Science Tools and Ecosystem are summarized."
   ]
  },
  {
   "cell_type": "markdown",
   "id": "e63d8801-ef16-483b-8bb3-3b4eff51c246",
   "metadata": {},
   "source": [
    "**Objectives:**\n",
    "- List popular languages for Data Science\n",
    "- List commonly used libraries used by Data Scientists\n",
    "- List Data Science Tools\n",
    "- Some arithmetic expressions"
   ]
  },
  {
   "cell_type": "markdown",
   "id": "672f0eec-be5b-4c06-9d37-5d94e6e6d2b0",
   "metadata": {},
   "source": [
    "Some of the popular languages that Data Scientists use are:\n",
    "1. Python\n",
    "2. R\n",
    "3. C++\n",
    "4. Java"
   ]
  },
  {
   "cell_type": "markdown",
   "id": "ed6c94e6-5edb-41b1-b555-078a4ffdedf2",
   "metadata": {},
   "source": [
    "Some of the commonly used libraries used by Data Scientists include:\n",
    "1. Ggplot.\n",
    "2. TensorFlow.\n",
    "3. NumPy.\n",
    "4. SciPy.\n",
    "5. Pandas.\n",
    "6. Matplotlib.\n",
    "7. Keras.\n",
    "8. SciKit-Learn.\n",
    "9. PyTorch."
   ]
  },
  {
   "cell_type": "markdown",
   "id": "a22d5d80-c1a4-4f75-8e1d-377af2843965",
   "metadata": {},
   "source": [
    "| Data Science Tools |\n",
    "|--------|\n",
    "|Jupyter Notebook|\n",
    "| RStudio |\n",
    "| Anaconda |\n",
    "| JupyterLab |"
   ]
  },
  {
   "cell_type": "markdown",
   "id": "de3d50c4-b7b5-44f8-af79-1513e8d6fae7",
   "metadata": {},
   "source": [
    "### Below are a few examples of evaluating arithmetic expressions in Python"
   ]
  },
  {
   "cell_type": "code",
   "execution_count": 2,
   "id": "f115dad0-1ca5-4e24-be6b-ca2cacb8f9f7",
   "metadata": {},
   "outputs": [
    {
     "data": {
      "text/plain": [
       "17"
      ]
     },
     "execution_count": 2,
     "metadata": {},
     "output_type": "execute_result"
    }
   ],
   "source": [
    "# This a simple arithmetic expression to mutiply then add integers\n",
    "(3*4)+5"
   ]
  },
  {
   "cell_type": "code",
   "execution_count": 3,
   "id": "ac40cc61-3c00-4106-acfc-df726db03d23",
   "metadata": {},
   "outputs": [
    {
     "data": {
      "text/plain": [
       "3.3333333333333335"
      ]
     },
     "execution_count": 3,
     "metadata": {},
     "output_type": "execute_result"
    }
   ],
   "source": [
    "# This will convert 200 minutes to hours by diving by 60\n",
    "200/60"
   ]
  },
  {
   "cell_type": "markdown",
   "id": "0bccf553-af13-4172-b525-834671dd5df6",
   "metadata": {},
   "source": [
    "## Author\n",
    "Diogo Alves de Sousa"
   ]
  }
 ],
 "metadata": {
  "kernelspec": {
   "display_name": "Python 3 (ipykernel)",
   "language": "python",
   "name": "python3"
  },
  "language_info": {
   "codemirror_mode": {
    "name": "ipython",
    "version": 3
   },
   "file_extension": ".py",
   "mimetype": "text/x-python",
   "name": "python",
   "nbconvert_exporter": "python",
   "pygments_lexer": "ipython3",
   "version": "3.11.4"
  }
 },
 "nbformat": 4,
 "nbformat_minor": 5
}
